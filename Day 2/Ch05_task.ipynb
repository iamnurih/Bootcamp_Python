{
 "cells": [
  {
   "cell_type": "markdown",
   "metadata": {},
   "source": [
    "<span style=\"font-size:100%\">\n",
    "\n",
    "수업은 모두 열심히 들으셨나요?\n",
    "\n",
    "간혹 강의에서 언급되지 않은 내용이 문제로 나올 수 있습니다.<br>\n",
    "그럴땐 강의 내용 외 문제는 구글링을 통해 해결해주세요<br></span>\n",
    "<span style=\"font-size:80%\">\n",
    "(구글링 또한 개발자가 갖쳐야할 역량 중에 하나랍니다 😊)\n",
    "</span>\n",
    "\n",
    "---"
   ]
  },
  {
   "cell_type": "markdown",
   "metadata": {},
   "source": [
    "### Chapter05 : `Python 변수에 대한 개념 복습하기`"
   ]
  },
  {
   "cell_type": "markdown",
   "metadata": {},
   "source": [
    "<span style=\"font-size:80%\">[문제1]<br><br></span>\n",
    "```Python으로 변수를 생성하는 방법으로 올바른 것을 고르세요```\n",
    "\n",
    "1. number == 20\n",
    "2. 100 == number\n",
    "3. number(7)\n",
    "4. number = 7"
   ]
  },
  {
   "cell_type": "markdown",
   "metadata": {},
   "source": [
    "<span style=\"color:red\">답변</span>"
   ]
  },
  {
   "cell_type": "markdown",
   "metadata": {},
   "source": [
    "4번\n",
    "\n",
    "설명: = 는 assignment의 뜻으로 number 라는 변수를 7에 할당하겠다라는 뜻. == : equall "
   ]
  },
  {
   "cell_type": "markdown",
   "metadata": {},
   "source": [
    "----"
   ]
  },
  {
   "cell_type": "markdown",
   "metadata": {},
   "source": [
    "<span style=\"font-size:80%\">[문제2]<br><br></span>\n",
    "```다음 중 올바르지 않은 것을 골라주세요```\n",
    "\n",
    "이름 = \"김오즈\"<br>\n",
    "나이 = 14<br>\n",
    "소속 = \"마법중\"<br>\n",
    "등급 = 3<br>\n",
    "\n",
    "1. 이름 + 소속\n",
    "2. 나이 + 등급\n",
    "3. 소속 + 등급"
   ]
  },
  {
   "cell_type": "markdown",
   "metadata": {},
   "source": [
    "<span style=\"color:red\">답변</span>"
   ]
  },
  {
   "cell_type": "markdown",
   "metadata": {},
   "source": [
    "3. 소속 + 등급 \n",
    "\n",
    "설명: int 와 str은 함께 연산될 수 없음 \"\"으로 string으로 만들어주거나 string을 숫자로 타입변환을 시켜야 함. "
   ]
  },
  {
   "cell_type": "markdown",
   "metadata": {},
   "source": [
    "----"
   ]
  },
  {
   "cell_type": "markdown",
   "metadata": {},
   "source": [
    "<span style=\"font-size:80%\">[문제3]<br><br></span>\n",
    "```아래 변수의 type으로 올바른것을 골라주세요```\n",
    "\n",
    "퀴즈 = \"스페인에서 카리나를 보고 하는 말은?\"<br>\n",
    "type(퀴즈)"
   ]
  },
  {
   "cell_type": "markdown",
   "metadata": {},
   "source": [
    "<span style=\"color:red\">답변</span>"
   ]
  },
  {
   "cell_type": "markdown",
   "metadata": {},
   "source": [
    "string "
   ]
  },
  {
   "cell_type": "markdown",
   "metadata": {},
   "source": [
    "----"
   ]
  },
  {
   "cell_type": "markdown",
   "metadata": {},
   "source": [
    "<span style=\"font-size:80%\">[문제4]<br><br></span>\n",
    "```다음 중 변수 이름으로 사용할 수 없는 것을 모두 골라주세요```\n",
    "\n",
    "1. 78abc\n",
    "2. ABC\n",
    "3. _ABC\n",
    "4. _hello%2\n",
    "5. for"
   ]
  },
  {
   "cell_type": "markdown",
   "metadata": {},
   "source": [
    "<span style=\"color:red\">답변</span>"
   ]
  },
  {
   "cell_type": "markdown",
   "metadata": {},
   "source": [
    "4. & 5. \n",
    "\n",
    "설명: 특수문자 % 를 사용할 수 없고, for은 이미 지정된 키워드임 "
   ]
  },
  {
   "cell_type": "markdown",
   "metadata": {},
   "source": [
    "----"
   ]
  },
  {
   "cell_type": "markdown",
   "metadata": {},
   "source": [
    "<span style=\"font-size:80%\">[문제5]<br><br></span>\n",
    "```다음 중 변수와 연산자의 사용 방법으로 올바르지 않은 것을 모두 골라주세요```\n",
    "\n",
    "x = 3\n",
    "y = 7\n",
    "\n",
    "1. x = x + y\n",
    "2. x // 2\n",
    "3. z >< x\n",
    "4. y += x\n",
    "5. ++x"
   ]
  },
  {
   "cell_type": "markdown",
   "metadata": {},
   "source": [
    "<span style=\"color:red\">답변</span>"
   ]
  },
  {
   "cell_type": "markdown",
   "metadata": {},
   "source": [
    "3. >< 와 5. ++ 두 개가 지원하지 않는 연산자입니다. \n",
    "\n",
    "* C, C++에서는 사용되기도 한다네요! "
   ]
  },
  {
   "cell_type": "markdown",
   "metadata": {},
   "source": [
    "----"
   ]
  },
  {
   "cell_type": "markdown",
   "metadata": {},
   "source": [
    "### Chapter06 : `Python 자료형인 int와 float 개념 복습하기`"
   ]
  },
  {
   "cell_type": "markdown",
   "metadata": {},
   "source": [
    "<span style=\"font-size:80%\">[문제1]<br><br></span>\n",
    "```실수를 정수로 만드는 식으로 올바른 것을 고르세요```\n",
    "\n",
    "1. str(3.5)\n",
    "2. int(3.5)\n",
    "3. float(3.5)"
   ]
  },
  {
   "cell_type": "markdown",
   "metadata": {},
   "source": [
    "<span style=\"color:red\">답변</span>"
   ]
  },
  {
   "cell_type": "markdown",
   "metadata": {},
   "source": [
    "2. int(3.5)가 3으로 변경해줍니다. \n",
    "\n",
    "추가: 궁금해서 찾아봤더니 3.5를 반올림 해서 보여주고 싶으면 round(3.5)를 사용함. "
   ]
  },
  {
   "cell_type": "markdown",
   "metadata": {},
   "source": [
    "----"
   ]
  },
  {
   "cell_type": "markdown",
   "metadata": {},
   "source": [
    "<span style=\"font-size:80%\">[문제2]<br><br></span>\n",
    "```실수 3.5의 type과 동일한 것을 고르세요```\n",
    "\n",
    "1. float(17//3)\n",
    "2. int(10)-9\n",
    "3. float11/2\n",
    "4. float(10)-2"
   ]
  },
  {
   "cell_type": "markdown",
   "metadata": {},
   "source": [
    "<span style=\"color:red\">답변</span>"
   ]
  },
  {
   "cell_type": "markdown",
   "metadata": {},
   "source": [
    "1. float(17//3) => 몫만 반환하지만 float 형식이기 때문에 5.0을 반환 \n",
    "3. float11/2도 소수 반환 \n",
    "4. 8.0 반환"
   ]
  },
  {
   "cell_type": "markdown",
   "metadata": {},
   "source": [
    "----"
   ]
  },
  {
   "cell_type": "markdown",
   "metadata": {},
   "source": []
  },
  {
   "cell_type": "markdown",
   "metadata": {},
   "source": [
    "<span style=\"font-size:80%\">[문제3]<br><br></span>\n",
    "```type(3.0 + 7.0)의 결과로 올바른 것을 고르세요```\n",
    "\n",
    "1. 10\n",
    "2. 10.0\n",
    "3. int\n",
    "4. float"
   ]
  },
  {
   "cell_type": "markdown",
   "metadata": {},
   "source": [
    "<span style=\"color:red\">답변</span>"
   ]
  },
  {
   "cell_type": "markdown",
   "metadata": {},
   "source": [
    "4. float\n",
    "\n",
    "두 수 모두 float이기 때문에 자료형 유형으로 float을 반환. "
   ]
  },
  {
   "cell_type": "markdown",
   "metadata": {},
   "source": [
    "----"
   ]
  },
  {
   "cell_type": "markdown",
   "metadata": {},
   "source": [
    "<span style=\"font-size:80%\">[문제4]<br><br></span>\n",
    "```float(5)의 결과로 올바른 것을 고르세요```\n",
    "\n",
    "1. 5\n",
    "2. `<class float>`\n",
    "3. 5.0\n",
    "4. type error"
   ]
  },
  {
   "cell_type": "markdown",
   "metadata": {},
   "source": [
    "<span style=\"color:red\">답변</span>"
   ]
  },
  {
   "cell_type": "markdown",
   "metadata": {},
   "source": [
    "3 5.0 int가 아닌 float 반환을 요청했으므로 5.0으로 반환! "
   ]
  },
  {
   "cell_type": "markdown",
   "metadata": {},
   "source": [
    "----"
   ]
  },
  {
   "cell_type": "markdown",
   "metadata": {},
   "source": [
    "<span style=\"font-size:80%\">[문제5]<br><br></span>\n",
    "```int(13 / 2)의 결과로 올바른 것을 고르세요```\n",
    "\n",
    "1. 6.5\n",
    "2. 1\n",
    "3. 6\n",
    "4. 6.0"
   ]
  },
  {
   "cell_type": "markdown",
   "metadata": {},
   "source": [
    "<span style=\"color:red\">답변</span>"
   ]
  },
  {
   "cell_type": "markdown",
   "metadata": {},
   "source": [
    "3. 6 int 로 요청했으므로 6 반환"
   ]
  },
  {
   "cell_type": "markdown",
   "metadata": {},
   "source": [
    "----"
   ]
  },
  {
   "cell_type": "markdown",
   "metadata": {},
   "source": [
    "### Chapter07 : `Python 자료형인 str와 bool 개념 복습하기`"
   ]
  },
  {
   "cell_type": "markdown",
   "metadata": {},
   "source": [
    "<span style=\"font-size:80%\">[문제1]<br><br></span>\n",
    "```변수 퀴즈에 들어있는 정답 \"어중이떠중이\"를 출력하기 위한 슬라이싱으로 올바른 것을 모두 골라주세요```\n",
    "\n",
    "퀴즈 = \"스님이 공중에 뜬다를 4글자로 말하면? 어중이떠중이\"\n",
    "\n",
    "1. print(퀴즈[22:27])\n",
    "2. print(퀴즈[22:])\n",
    "3. print(퀴즈[22:28])\n",
    "4. print(퀴즈[28])"
   ]
  },
  {
   "cell_type": "markdown",
   "metadata": {},
   "source": [
    "<span style=\"color:red\">답변</span>"
   ]
  },
  {
   "cell_type": "markdown",
   "metadata": {},
   "source": [
    "2, 3 \n",
    "\n",
    "마지막 index는 생략 가능함! "
   ]
  },
  {
   "cell_type": "markdown",
   "metadata": {},
   "source": [
    "----"
   ]
  },
  {
   "cell_type": "markdown",
   "metadata": {},
   "source": [
    "<span style=\"font-size:80%\">[문제2]<br><br></span>\n",
    "```과일 변수에 들어있는 p의 개수를 구하는 코드로 올바른 것을 골라주세요```\n",
    "\n",
    "과일 = \"apple\" \n",
    "\n",
    "1. 과일.count('p')\n",
    "2. count(과일, 'p')\n",
    "3. 과일.index('p')\n",
    "4. count('p')"
   ]
  },
  {
   "cell_type": "markdown",
   "metadata": {},
   "source": [
    "<span style=\"color:red\">답변</span>"
   ]
  },
  {
   "cell_type": "markdown",
   "metadata": {},
   "source": [
    "1. 과일.count('p')"
   ]
  },
  {
   "cell_type": "markdown",
   "metadata": {},
   "source": [
    "----"
   ]
  },
  {
   "cell_type": "markdown",
   "metadata": {},
   "source": [
    "<span style=\"font-size:80%\">[문제3]<br><br></span>\n",
    "``` bool 타입에 해당하는 것만 골라주세요```\n",
    "\n",
    "1. true\n",
    "2. True\n",
    "3. False\n",
    "4. 0\n",
    "5. 1"
   ]
  },
  {
   "cell_type": "markdown",
   "metadata": {},
   "source": [
    "<span style=\"color:red\">답변</span>"
   ]
  },
  {
   "cell_type": "markdown",
   "metadata": {},
   "source": [
    "2. True, 3. False \n",
    "\n",
    "* 대소문자 구분해야함 Boolean 은 항상 대문자로 시작 True, False "
   ]
  },
  {
   "cell_type": "markdown",
   "metadata": {},
   "source": [
    "----"
   ]
  },
  {
   "cell_type": "markdown",
   "metadata": {},
   "source": [
    "<span style=\"font-size:80%\">[문제4]<br><br></span>\n",
    "```문자열의 길이를 구하는 방법으로 올바른 것을 고르세요```\n",
    "\n",
    "라라랜드 =  \"사람들은 다른 사람들의 열정에 끌리게 되어있어 자신이 잊은 걸 상기시켜 주니까\"\n",
    "\n",
    "1. 라라랜드.len()\n",
    "2. length(라라랜드)\n",
    "3. len(라라랜드)\n",
    "4. count(라라랜드)"
   ]
  },
  {
   "cell_type": "markdown",
   "metadata": {},
   "source": [
    "<span style=\"color:red\">답변</span>"
   ]
  },
  {
   "cell_type": "markdown",
   "metadata": {},
   "source": [
    "3. len(라라랜드)"
   ]
  },
  {
   "cell_type": "markdown",
   "metadata": {},
   "source": [
    "----"
   ]
  },
  {
   "cell_type": "markdown",
   "metadata": {},
   "source": [
    "### Chapter08 : `비교 연산자와 논리 연산자에 대해 복습해보기`"
   ]
  },
  {
   "cell_type": "markdown",
   "metadata": {},
   "source": [
    "<span style=\"font-size:80%\">[문제1]<br><br></span>\n",
    "```비교 연산자의 결과로 올바르지 않은 것을 골라주세요```\n",
    "\n",
    "1. 8 == 2 * 4&emsp;&emsp;결과 : True\n",
    "2. 4 != 2 + 2&emsp;&emsp;결과 : False\n",
    "3. 2 * 3 is 3 + 3&emsp;&emsp;결과 : True\n",
    "4. 8 is 4 * 2.0&emsp;&emsp;결과 : True\n",
    "5. 5 is 6 - 1.1&emsp;&emsp;결과 : False"
   ]
  },
  {
   "cell_type": "markdown",
   "metadata": {},
   "source": [
    "<span style=\"color:red\">답변</span>"
   ]
  },
  {
   "cell_type": "markdown",
   "metadata": {},
   "source": [
    "4. 8 is 4 (false) * 2.0 = false 를 반환해야 함 "
   ]
  },
  {
   "cell_type": "markdown",
   "metadata": {},
   "source": [
    "----"
   ]
  },
  {
   "cell_type": "markdown",
   "metadata": {},
   "source": [
    "<span style=\"font-size:80%\">[문제2]<br><br></span>\n",
    "```\"x는 5와 같지 않다\"라는 뜻과 동일한 것을 골라주세요```\n",
    "\n",
    "1. x <= 5\n",
    "2. x != 5\n",
    "3. x & 5\n",
    "4. x ! 5"
   ]
  },
  {
   "cell_type": "markdown",
   "metadata": {},
   "source": [
    "<span style=\"color:red\">답변</span>"
   ]
  },
  {
   "cell_type": "code",
   "execution_count": null,
   "metadata": {
    "vscode": {
     "languageId": "plaintext"
    }
   },
   "outputs": [],
   "source": [
    "2. x != 5"
   ]
  },
  {
   "cell_type": "markdown",
   "metadata": {},
   "source": [
    "----"
   ]
  },
  {
   "cell_type": "markdown",
   "metadata": {},
   "source": [
    "<span style=\"font-size:80%\">[문제3]<br><br></span>\n",
    "```비교 연산자와 논리 연산자의 결과로 올바른 것을 모두 골라주세요```\n",
    "\n",
    "x = 10\n",
    "y = 20\n",
    "\n",
    "1. x == 10 or y == 10  결과 : False\n",
    "2. x >= 10 and y < 30  결과 : True\n",
    "3. not x == 10 결과 : False\n",
    "4. y != 20 or x != 10  결과 : True\n",
    "5. not y != 20 and x > 5  결과 : False"
   ]
  },
  {
   "cell_type": "markdown",
   "metadata": {},
   "source": [
    "<span style=\"color:red\">답변</span>"
   ]
  },
  {
   "cell_type": "markdown",
   "metadata": {},
   "source": [
    "2. x>=10 and y<30은 True \n",
    "3. not x==10 은 False \n"
   ]
  },
  {
   "cell_type": "markdown",
   "metadata": {},
   "source": [
    "----"
   ]
  },
  {
   "cell_type": "markdown",
   "metadata": {},
   "source": [
    "<span style=\"font-size:80%\">[문제4]<br><br></span>\n",
    "```'치맥' and True의 결과로 올바른 것을 골라주세요```\n",
    "\n",
    "1. False\n",
    "2. 아묻따\n",
    "3. True\n",
    "4. 치맥True"
   ]
  },
  {
   "cell_type": "markdown",
   "metadata": {},
   "source": [
    "<span style=\"color:red\">답변</span>"
   ]
  },
  {
   "cell_type": "markdown",
   "metadata": {},
   "source": [
    "1. True \n",
    "문자열인 치맥은 항상 True \n",
    "and 는 앞과 뒤가 모두 True 면 True 반환"
   ]
  },
  {
   "cell_type": "markdown",
   "metadata": {},
   "source": [
    "----"
   ]
  },
  {
   "cell_type": "markdown",
   "metadata": {},
   "source": [
    "<span style=\"font-size:80%\">[문제5]<br><br></span>\n",
    "```논리 연산의 결과를 뒤집는 연산자를 골라주세요```\n",
    "\n",
    "1. is not\n",
    "2. not\n",
    "3. !=\n",
    "4. end\n",
    "5. and\n",
    "6. or"
   ]
  },
  {
   "cell_type": "markdown",
   "metadata": {},
   "source": [
    "<span style=\"color:red\">답변</span>"
   ]
  },
  {
   "cell_type": "markdown",
   "metadata": {},
   "source": [
    "2. not"
   ]
  }
 ],
 "metadata": {
  "language_info": {
   "name": "python"
  }
 },
 "nbformat": 4,
 "nbformat_minor": 2
}
