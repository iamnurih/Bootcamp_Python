{
 "cells": [
  {
   "cell_type": "markdown",
   "metadata": {
    "id": "WXEwMsfUct7U"
   },
   "source": [
    "안녕하세요.<br><br>\n",
    "수강생 여러분~! \n",
    "\n",
    "\"Challenge : Chapter05 ~ 08 문제풀기\"는 잘 풀어보셨나요?\n",
    "\n",
    "\n",
    "너~~무 어려웠어요! 하는 분들을 위해 만들어봤습니다!\n",
    "\n",
    "문제 도장깨기 !!!!!\n",
    "\n",
    "차근차근 풀어나가면 파이썬 정복 가능입니다!\n",
    "\n",
    "화이팅 !\n",
    "\n",
    "\n",
    "Chapter05~08의 수업 내용을 바탕으로 아래 문제를 풀어주시면 됩니다.\n",
    "\n",
    "<br>\n",
    "\n",
    "[**답변 입력 방법**]\n",
    "\n",
    "문제 아래에 있는 코드 입력창에 정답코드를 작성하신 후  __▷ 버튼을 클릭해 코드를 실행__ 해보세요<br>\n",
    "<br>"
   ]
  },
  {
   "cell_type": "markdown",
   "metadata": {
    "id": "qoyC9wF-3hvs"
   },
   "source": [
    "-----"
   ]
  },
  {
   "cell_type": "markdown",
   "metadata": {},
   "source": [
    "<br>\n",
    "\n",
    "__[문제1]__\n",
    "\n",
    "\n",
    "a와 b라는 변수를 각각 10과 20으로 초기화하고, 두 변수를 더한 값을 출력해보세요.\n",
    "\n",
    "\n",
    "<br>"
   ]
  },
  {
   "cell_type": "code",
   "execution_count": 3,
   "metadata": {},
   "outputs": [
    {
     "name": "stdout",
     "output_type": "stream",
     "text": [
      "두변수의 합: 30\n"
     ]
    }
   ],
   "source": [
    "a = 10 \n",
    "b = 20 \n",
    "print (\"두변수의 합:\", a + b)"
   ]
  },
  {
   "cell_type": "markdown",
   "metadata": {},
   "source": [
    "<br>\n",
    "\n",
    "__[문제2]__\n",
    "\n",
    "\n",
    "변수 num1에 15, num2에 4를 할당하고, 두 변수를 더한 값, 뺀 값, 곱한 값, 나눈 값을 각각 출력하세요.\n",
    "\n",
    "\n",
    "\n",
    "<br>"
   ]
  },
  {
   "cell_type": "code",
   "execution_count": 9,
   "metadata": {},
   "outputs": [
    {
     "name": "stdout",
     "output_type": "stream",
     "text": [
      "더한 값: 19 \n",
      "뺀 값: 11 \n",
      "곱한 값: 60 \n",
      "나눈 값: 3.75\n"
     ]
    }
   ],
   "source": [
    "num1 = 15 \n",
    "num2 = 4 \n",
    "\n",
    "print (\"더한 값:\", num1+num2, \n",
    "       \"\\n뺀 값:\", num1-num2, \n",
    "       \"\\n곱한 값:\", num1*num2, \n",
    "       \"\\n나눈 값:\", num1/num2)\n",
    "\n",
    "#각 줄에 print를 나타내려면 총 4가지 방법이 있다고 한다. \n",
    "# 1. print를 4번 써서 표기하는 방법 \n",
    "# 2. print를 한번 쓰고 줄바꿈 표기법인 \\n을 사용하는 방법 \n",
    "# 3. 반복문을 사용해서 사용하는 방식 (아직 안배움)\n",
    "# 일단은 가장 단순해 보이는 \\n을 사용했다. \\n은 특수문자열이므로 \"\" 안에 표기\n"
   ]
  },
  {
   "cell_type": "markdown",
   "metadata": {
    "id": "rAD_O3Gmc_43"
   },
   "source": [
    "<br>\n",
    "\n",
    "__[문제3]__\n",
    "\n",
    "변수 x에 5를 할당하고, 변수 y에 3을 할당한 후, x가 y보다 크거나 같은지 비교해서 bool타입으로 출력해주세요."
   ]
  },
  {
   "cell_type": "code",
   "execution_count": 10,
   "metadata": {
    "id": "74wtVQFFc_h1"
   },
   "outputs": [
    {
     "name": "stdout",
     "output_type": "stream",
     "text": [
      "True\n"
     ]
    }
   ],
   "source": [
    "x = 5\n",
    "y = 3 \n",
    "comparison = x >= y\n",
    "print (comparison)"
   ]
  },
  {
   "cell_type": "markdown",
   "metadata": {
    "id": "3uK_auXYdgk2"
   },
   "source": [
    "<br>__[문제4]__\n",
    "\n",
    "자료형 (int, float, str, bool) 변수를 만들어보고, print()해서 결과를 확인하세요!\n"
   ]
  },
  {
   "cell_type": "code",
   "execution_count": 12,
   "metadata": {
    "id": "9kvBxa6PdhgA"
   },
   "outputs": [
    {
     "name": "stdout",
     "output_type": "stream",
     "text": [
      "정수: 1 \n",
      "실수: 1.0 \n",
      "문자열: 리버네입니다 \n",
      "불리언: True\n"
     ]
    }
   ],
   "source": [
    "int_var = 1\n",
    "float_var = 1.0\n",
    "str_var = \"리버네입니다\" \n",
    "bool_var = True\n",
    "\n",
    "print(\"정수:\", int_var, \"\\n실수:\", float_var, \"\\n문자열:\", str_var, \"\\n불리언:\", bool_var)"
   ]
  },
  {
   "cell_type": "markdown",
   "metadata": {
    "id": "2Jte2VLKdiPm"
   },
   "source": [
    "__[문제5]__\n",
    "\n",
    "str = \"야호야호야호호야호야야오햐오햐오햐오\"\n",
    "\n",
    "str을 3가지 이상의 다른 문자열 슬라이싱을 이용하여 확인해보세요!\n",
    "\n",
    "출력 예)\n",
    "\n",
    "처음 5글자: 야호야호야\n"
   ]
  },
  {
   "cell_type": "code",
   "execution_count": 24,
   "metadata": {},
   "outputs": [
    {
     "name": "stdout",
     "output_type": "stream",
     "text": [
      "야호야호야호호야호야야오햐오햐오햐오\n",
      "오햐오햐오햐오야야호야호호야호야호야\n",
      "야호호야햐오\n",
      "햐오야야호야\n",
      "호호야호야야오햐오햐오햐오\n",
      "18\n"
     ]
    }
   ],
   "source": [
    "str = \"야호야호야호호야호야야오햐오햐오햐오\"\n",
    "print(str[:19])\n",
    "print(str[::-1])\n",
    "print(str[::3])\n",
    "print(str[12:6:-1])\n",
    "print(str[5:])\n",
    "print(len(str))"
   ]
  },
  {
   "cell_type": "markdown",
   "metadata": {},
   "source": [
    "__[문제6]__\n",
    "\n",
    "변수명 게임에 들어 있는 값 중 '홀'만 출력되도록 코드를 작성해 주세요\n",
    "\n",
    "game = \"홀짝홀짝홀짝\"\n",
    "\n",
    "출력 예시 : \"홀홀홀\"\n",
    "\n",
    "<br>\n",
    "\n",
    "__Tips__\n",
    "- 문자열 슬라이싱을 이용해보세요 !\n"
   ]
  },
  {
   "cell_type": "code",
   "execution_count": 25,
   "metadata": {},
   "outputs": [
    {
     "name": "stdout",
     "output_type": "stream",
     "text": [
      "홀홀홀\n"
     ]
    }
   ],
   "source": [
    "game = \"홀짝홀짝홀짝\"\n",
    "print (game[::2])"
   ]
  },
  {
   "cell_type": "markdown",
   "metadata": {},
   "source": [
    "__[문제7]__\n",
    "\n",
    "변수명 전화번호에 들어 있는 번호를 모두 붙여서 출력되도록 코드를 작성해주세요.\n",
    "\n",
    "<br>\n",
    "\n",
    "phone = \"010-1234-5678\"\n",
    "\n",
    "출력 예시 : \"01012345678\"\n",
    "\n",
    "<br>\n",
    "\n",
    "__Tips__\n",
    "- split() 함수는 문자열을 특정 구분자를 기준으로 나누어 리스트로 반환합니다.\n"
   ]
  },
  {
   "cell_type": "code",
   "execution_count": 30,
   "metadata": {},
   "outputs": [
    {
     "name": "stdout",
     "output_type": "stream",
     "text": [
      "['010', '1234', '5678']\n",
      "01012345678\n",
      "01012345678\n"
     ]
    }
   ],
   "source": [
    "phone = \"010-1234-5678\"\n",
    "results = phone.split(\"-\") \n",
    "print (results)\n",
    "\n",
    "number_only = \"\".join(results)\n",
    "print (number_only)\n",
    "\n",
    "# 숫자에 특수문자(-)가 포함되어 있으면 문자열임. 정수 자료형이 될 수 없음. 그러므로 따옴표나 쌍따옴표로 감싸줘야 함 \n",
    "# 처음에 split() 메서드만 썼을 때 반환 값은 - 를 삭제한 각 숫자를 따로 표기해 줬음 ['010', '1234', '5678']\n",
    "# split() 메서드를 쓰면 join() 함수를 다시 써줘야 했음. 01012345678\n",
    "# 유사한 역할을 하는 replace() 메서드도 있다고 함 (아래 코드 예시)\n",
    "# 메서드: 특정 유형의 자료형(문자열 등) 객체가 가지고 있는 함수, split 과 replace 모두 문자열 객체에 붙어서 호출되는 문자열 메서드임\n",
    "# 함수(function)은 독립적으로 존재하는 코드 블록임. 객체가 없어도 호출 가능, 어떤 자료형에도 속하지 않을 수 있음  \n",
    "# 즉, 함수는 단독, 메서는 객체 내에서 존재 \n",
    "\n",
    "\n",
    "phone_number_only = phone.replace(\"-\", \"\")\n",
    "print(phone_number_only)\n",
    "\n",
    "# 여기서 사용된 메서드는 총 3가지, split, join, replace \n",
    "# split은 특정 구분자를 기준으로 문자열은 나우고 반환은 list로 함 \n",
    "# join은 여러 문자열을 하나로 연결해 주는 역할을 함 반환 값은 문자열 \n",
    "# replace는 문자열 내 특정 문자를 다른 문자로 전환함, 반환 값은 문자열\n",
    "# split + join 조합은 문자열을 분리해서 각각 조작하거나, 분리 항목을 재배치 할 때 사용 (느리지만, list 된 값 중 일부만 선택해 처리 가능)\n",
    "# replaces는 문자열 내 특정 문자열을 다른 문자로 바꿀 때 사용 (빠르지만 단순치환만 가능)\n"
   ]
  },
  {
   "cell_type": "code",
   "execution_count": null,
   "metadata": {},
   "outputs": [],
   "source": []
  }
 ],
 "metadata": {
  "colab": {
   "authorship_tag": "ABX9TyM3gebHvdgzn1rFsPHWTyo9",
   "provenance": []
  },
  "kernelspec": {
   "display_name": "Python 3",
   "name": "python3"
  },
  "language_info": {
   "codemirror_mode": {
    "name": "ipython",
    "version": 3
   },
   "file_extension": ".py",
   "mimetype": "text/x-python",
   "name": "python",
   "nbconvert_exporter": "python",
   "pygments_lexer": "ipython3",
   "version": "3.9.6"
  }
 },
 "nbformat": 4,
 "nbformat_minor": 0
}
