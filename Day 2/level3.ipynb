{
 "cells": [
  {
   "cell_type": "markdown",
   "metadata": {
    "id": "WXEwMsfUct7U"
   },
   "source": [
    "안녕하세요.<br><br>\n",
    "수강생 여러분~! \n",
    "\n",
    "\"Challenge : Chapter05 ~ 08 문제풀기\"는 잘 풀어보셨나요?\n",
    "\n",
    "\n",
    "너~~무 어려웠어요! 하는 분들을 위해 만들어봤습니다!\n",
    "\n",
    "문제 도장깨기 !!!!!\n",
    "\n",
    "차근차근 풀어나가면 파이썬 정복 가능입니다!\n",
    "\n",
    "화이팅 !\n",
    "\n",
    "\n",
    "Chapter05~08의 수업 내용을 바탕으로 아래 문제를 풀어주시면 됩니다.\n",
    "\n",
    "<br>\n",
    "\n",
    "[**답변 입력 방법**]\n",
    "\n",
    "문제 아래에 있는 코드 입력창에 정답코드를 작성하신 후  __▷ 버튼을 클릭해 코드를 실행__ 해보세요<br>\n",
    "<br>"
   ]
  },
  {
   "cell_type": "markdown",
   "metadata": {
    "id": "qoyC9wF-3hvs"
   },
   "source": [
    "-----"
   ]
  },
  {
   "cell_type": "markdown",
   "metadata": {},
   "source": [
    "<br>\n",
    "\n",
    "__[문제1]__\n",
    "\n",
    "미션 부수기 챌린지\n",
    "\n",
    "다음 미션을 차례대로 부숴주세요.\n",
    "\n",
    "<br>\n",
    "\n",
    "__미션__\n",
    "- x에 5를 할당하고, y에는 10을 할당\n",
    "- x의 값을 제곱하고, 그 값을 z에 할당\n",
    "- y의 값을 2로 나눈 후, 그 값을 a에 할당\n",
    "- a와 z를 더한 값을 b에 할당\n",
    "- b의 값이 x와 같은지 출력\n",
    "-  b와 a를 문자열로 변환하여 합친 결과를 출력\n",
    "\n",
    "\n",
    "<br>"
   ]
  },
  {
   "cell_type": "code",
   "execution_count": 8,
   "metadata": {},
   "outputs": [
    {
     "name": "stdout",
     "output_type": "stream",
     "text": [
      "False\n",
      "30.05.0\n"
     ]
    }
   ],
   "source": [
    "x = 5 \n",
    "y = 10 \n",
    "z = x**2\n",
    "a = y/2\n",
    "b = a+z\n",
    "is_same = b == x \n",
    "print(is_same)\n",
    "print(str(b) + str(a))\n",
    "\n",
    "# =가 대입연산자인 것을 까먹고 계속 불리언값이 안나와서 고생함 = 는 할당, ==가 equall to 기억! \n",
    "\n",
    "\n"
   ]
  },
  {
   "cell_type": "markdown",
   "metadata": {},
   "source": [
    "<br>\n",
    "\n",
    "__[문제2]__\n",
    "\n",
    "변수 num에 \"45.67\" 이라는 문자열을 할당하고,\n",
    "\n",
    "파이썬 나라에서 돌다리를 건너려고 합니다.\n",
    "\n",
    "이 돌다리는 반드시 두드려 보고 건너야 합니다. \n",
    "\n",
    "미션을 해결하면 자동으로 단단한 돌다리인지 확인 됩니다! \n",
    "\n",
    "아래의 미션을 확인하고 돌다리를 건너주세요!\n",
    "\n",
    "<br>\n",
    "\n",
    "__미션__\n",
    "- 문자열 할당 (num)\n",
    "- 소수점 포함 숫자로 출력\n",
    "- 정수만 출력\n",
    "\n",
    "<br>"
   ]
  },
  {
   "cell_type": "code",
   "execution_count": 13,
   "metadata": {},
   "outputs": [
    {
     "name": "stdout",
     "output_type": "stream",
     "text": [
      "45.67\n",
      "45\n"
     ]
    }
   ],
   "source": [
    "num = str(\"45.67\")\n",
    "print(float(num))\n",
    "print(int(float(num)))\n",
    "\n",
    "#str을 float으로 변환할때는 문제가 없었는데 string을 int로 바로 변환하려니 문제가 발생 했음. \n",
    "# This error occurs because you are trying to convert the string '45.67' directly to an integer using int(num). \n",
    "# Python cannot convert a string with a decimal point directly to an integer.\n",
    "# So, str(float 인 경우) -> float  -> int, if the original number in string is floats. \n",
    "\n",
    "\n"
   ]
  },
  {
   "cell_type": "markdown",
   "metadata": {
    "id": "rAD_O3Gmc_43"
   },
   "source": [
    "<br>\n",
    "\n",
    "__[문제3]__\n",
    "\n",
    "첫 번째 공백을 기준으로 앞부분만 추출해주세요!\n",
    "\n",
    "<br>\n",
    "\n",
    "__text = \"Hello World Python\"__\n"
   ]
  },
  {
   "cell_type": "code",
   "execution_count": 16,
   "metadata": {
    "id": "74wtVQFFc_h1"
   },
   "outputs": [
    {
     "name": "stdout",
     "output_type": "stream",
     "text": [
      "Hello\n"
     ]
    }
   ],
   "source": [
    "text=\"Hello World Python\"\n",
    "print (text.split()[0])"
   ]
  },
  {
   "cell_type": "markdown",
   "metadata": {
    "id": "3uK_auXYdgk2"
   },
   "source": [
    "<br>__[문제4]__\n",
    "\n",
    "문자열 \"PythonProgramming\" 이 주어졌을 때, 다음 미션을 해결해주세요!\n",
    "\n",
    "<br>\n",
    "\n",
    "__미션__\n",
    "- \"Python\"을 출력\n",
    "- \"Programming\" 출력\n",
    "- \"Pyg\" 출력\n",
    "- \"in\" 출력"
   ]
  },
  {
   "cell_type": "code",
   "execution_count": 37,
   "metadata": {
    "id": "9kvBxa6PdhgA"
   },
   "outputs": [
    {
     "name": "stdout",
     "output_type": "stream",
     "text": [
      "Python\n",
      "Programming\n",
      "Pyg\n",
      "in\n"
     ]
    }
   ],
   "source": [
    "the_word = \"PythonProgramming\"\n",
    "print(the_word[:6])\n",
    "print(the_word[6:])\n",
    "print(the_word[0:2] + the_word[9]) \n",
    "print(the_word[14:16])\n",
    "\n",
    "# + 를 안 붙이면 따로 띄어서 표기 됨. \n",
    "# +는 문자열 연결 연산자로 두 문자열을 붙여서 하나로 만들라는 의미 = pyg 이렇게 출력됨 \n",
    "# +를 안붙이면 콤마로 구분되어 두 개의 값을 따로 출력함  = py g 이렇게 출력됨 \n"
   ]
  },
  {
   "cell_type": "markdown",
   "metadata": {
    "id": "2Jte2VLKdiPm"
   },
   "source": [
    "__[문제5]__\n",
    "\n",
    "해외로 편지를 보냅니다. \n",
    "\n",
    "영어를 알파벳만 알기 때문에 아는 것만 적어 보내려고 합니다.\n",
    "\n",
    "근데 중간에 오타가 발생해버렸네요! 문자열의 일부를 바꿔 올바르게 고쳐 주세요. (소문자)\n",
    "\n",
    "<br>\n",
    "\n",
    "__word = \"abcXYZgh\"__\n"
   ]
  },
  {
   "cell_type": "code",
   "execution_count": 41,
   "metadata": {},
   "outputs": [
    {
     "name": "stdout",
     "output_type": "stream",
     "text": [
      "abcxyzgh\n",
      "abcxyzgh\n"
     ]
    }
   ],
   "source": [
    "word = \"abcXYZgh\"\n",
    "lower_text = word.lower()\n",
    "print(lower_text)\n",
    "\n",
    "#소문자로 바꾸는 메서드를 사용했는데 정답지를 보니 replace를 썼다. 그래서 다시 시도 \n",
    "\n",
    "word = \"abcXYZgh\"\n",
    "corret_word = word.replace(\"XYZ\", \"xyz\")\n",
    "print(corret_word)\n",
    "\n",
    "# 수정하는거니까, Replace를 활용하는게 확장성 면에서 더 좋을것 같다. \n",
    "# 다음에 고쳐야 할게 대소문자 문제가 아닐 수 있음. \n"
   ]
  },
  {
   "cell_type": "markdown",
   "metadata": {},
   "source": [
    "__[문제6]__\n",
    "\n",
    "창의성, 시장성, 안정성, 수익성에 대한 각각의 평가 중 아래 기준에 부합하지 못하면 창업지원을 받을 수 없습니다.\n",
    "\n",
    "- 수익성 60점 이상\n",
    "- 창의성과 시장성 50점 이상\n",
    "- 시장성과 수익성을 더한 값의 절반이 안정성 보다 높아야 함\n",
    "\n",
    "\n",
    "다음 점수가 입력되었을때 창업 지원이 가능한지 여부를 True 또는 False로 출력해주세요.\n",
    "\n",
    "---\n",
    "\n",
    "창의성 : 62\n",
    "시장성 : 71\n",
    "안정성 : 68\n",
    "수익성 : 66\n",
    "<br>\n",
    "\n",
    "* 참고\n",
    "(creativity ,\n",
    "marketability ,\n",
    "stability ,\n",
    "profitability )\n",
    "\n",
    "<br>\n",
    "\n",
    "__Tips__\n",
    "* 비교 연산자와 논리 연산자의 결과를 고려해보아요\n"
   ]
  },
  {
   "cell_type": "code",
   "execution_count": null,
   "metadata": {},
   "outputs": [
    {
     "name": "stdout",
     "output_type": "stream",
     "text": [
      "True\n"
     ]
    }
   ],
   "source": [
    "creativity = 62 \n",
    "marketability = 71 \n",
    "stability = 68 \n",
    "profitability = 66 \n",
    "invest_induction_if = (\n",
    "    profitability >= 60 and \n",
    "    creativity >= 50 and \n",
    "    marketability >= 50 and\n",
    "    (marketability + profitability)/2 >= stability)\n",
    "print(invest_induction_if)\n",
    "\n",
    "\n",
    "# and 와 + 가 헷갈리기 시작 \n",
    "# 이 둘은 완전히 다른 기능을 하는 연산자임 \n",
    "# and는 논리연산자임, 두 조건이 모두 참일때 True를 반환하라는 뜻\n",
    "# 두 조건 중 하나라도 거짓이면 전체가 거짓 \n",
    "# 주로 조건문에서 여러 조건을 만족할 때 사용 \n",
    "# + 는 덧셈 연산자이고 숫자를 더할 때는 더한 결과를 반환하고, 문자열을 더할 때는  떨어져 있는 문자열을 이어 붙이는 역할을 함 \n",
    "\n",
    "\n"
   ]
  }
 ],
 "metadata": {
  "colab": {
   "authorship_tag": "ABX9TyM3gebHvdgzn1rFsPHWTyo9",
   "provenance": []
  },
  "kernelspec": {
   "display_name": "Python 3",
   "name": "python3"
  },
  "language_info": {
   "codemirror_mode": {
    "name": "ipython",
    "version": 3
   },
   "file_extension": ".py",
   "mimetype": "text/x-python",
   "name": "python",
   "nbconvert_exporter": "python",
   "pygments_lexer": "ipython3",
   "version": "3.9.6"
  }
 },
 "nbformat": 4,
 "nbformat_minor": 0
}
