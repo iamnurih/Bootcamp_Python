{
 "cells": [
  {
   "cell_type": "markdown",
   "metadata": {},
   "source": [
    "안녕하세요. 수강생 여러분~! Chapter21 ~ 32 수업은 잘 들으셨나요?\n",
    "\n",
    "Chapter21 ~ 32의 수업 내용을 바탕으로 아래 문제를 풀어주시면 됩니다.\n",
    "\n",
    "\n",
    "<br>\n",
    "\n",
    "\n",
    "[**답변 입력 방법**]\n",
    "\n",
    "문제 아래에 있는 코드 입력창에 정답코드를 작성하신 후  __▷ 버튼을 클릭해 코드를 실행__ 해보세요<br>"
   ]
  },
  {
   "cell_type": "markdown",
   "metadata": {},
   "source": [
    "---"
   ]
  },
  {
   "cell_type": "markdown",
   "metadata": {},
   "source": [
    "[문제 1]\n",
    "사용자로부터 이름과 나이를 입력 받아, \"안녕하세요, [이름]님! 당신은 [나이]살입니다.\"라고 출력하는 함수 greet_user를 작성하세요."
   ]
  },
  {
   "cell_type": "code",
   "execution_count": 9,
   "metadata": {},
   "outputs": [
    {
     "name": "stdout",
     "output_type": "stream",
     "text": [
      "한리버 4\n"
     ]
    },
    {
     "data": {
      "text/plain": [
       "'안녕하세요 한리버님! 당신은 4살입니다.'"
      ]
     },
     "execution_count": 9,
     "metadata": {},
     "output_type": "execute_result"
    }
   ],
   "source": [
    "def greet_user(이름, 나이):\n",
    "    print(이름, 나이)\n",
    "    return(f\"안녕하세요 {이름}님! 당신은 {나이}살입니다.\")\n",
    "\n",
    "greet_user(\"한리버\", 4)\n",
    "\n",
    "#return 과 print는, return은 함수값을 반환해서 다음에 또 사용할 수 있는거고 print는 그냥 함수 결과만 표기하는 것 "
   ]
  },
  {
   "cell_type": "markdown",
   "metadata": {},
   "source": [
    "---"
   ]
  },
  {
   "cell_type": "markdown",
   "metadata": {},
   "source": [
    "[문제 2] 여러 숫자를 입력받아 그 합계를 반환하는 함수 sum_numbers를 작성하세요. 이 때, 가변 매개변수를 사용하세요."
   ]
  },
  {
   "cell_type": "code",
   "execution_count": 10,
   "metadata": {},
   "outputs": [
    {
     "data": {
      "text/plain": [
       "15"
      ]
     },
     "execution_count": 10,
     "metadata": {},
     "output_type": "execute_result"
    }
   ],
   "source": [
    "def sum_numbers(*args):\n",
    "    return sum(args)\n",
    "\n",
    "sum_numbers(1, 2, 3, 4, 5)"
   ]
  },
  {
   "cell_type": "markdown",
   "metadata": {},
   "source": [
    "---"
   ]
  },
  {
   "cell_type": "markdown",
   "metadata": {},
   "source": [
    "[문제 3] 사용자의 이름을 출력하는 함수 print_name을 작성하세요. 만약 이름이 주어지지 않았다면, 기본값으로 \"익명\"을 사용하세요."
   ]
  },
  {
   "cell_type": "code",
   "execution_count": 14,
   "metadata": {},
   "outputs": [
    {
     "name": "stdout",
     "output_type": "stream",
     "text": [
      "내 이름은 입니다.\n"
     ]
    }
   ],
   "source": [
    "def print_name(name=\"익명\"):\n",
    "    print(f\"내 이름은 {name}입니다.\")\n",
    "\n",
    "print_name() "
   ]
  },
  {
   "cell_type": "markdown",
   "metadata": {},
   "source": [
    "---"
   ]
  },
  {
   "cell_type": "markdown",
   "metadata": {},
   "source": [
    "[문제 4] 사용자의 이름, 나이, 성별을 출력하는 함수 print_info를 작성하세요. 이 때, 모든 매개변수는 키워드 매개변수로만 받도록 하세요."
   ]
  },
  {
   "cell_type": "code",
   "execution_count": 16,
   "metadata": {},
   "outputs": [
    {
     "name": "stdout",
     "output_type": "stream",
     "text": [
      "name: 한리버\n",
      "age: 4\n"
     ]
    }
   ],
   "source": [
    "def print_info(**kwargs):\n",
    "    for name, age in kwargs.items():\n",
    "        print(f\"{name}: {age}\")\n",
    "\n",
    "print_info(name=\"한리버\", age=4)"
   ]
  },
  {
   "cell_type": "markdown",
   "metadata": {},
   "source": [
    "---"
   ]
  },
  {
   "cell_type": "markdown",
   "metadata": {},
   "source": [
    "[문제 5] 두 개의 정수를 받아 합을 반환하는 함수 add를 작성하세요. 매개변수와 반환값에 타입 어노테이션을 추가하세요."
   ]
  },
  {
   "cell_type": "code",
   "execution_count": 17,
   "metadata": {},
   "outputs": [
    {
     "data": {
      "text/plain": [
       "10"
      ]
     },
     "execution_count": 17,
     "metadata": {},
     "output_type": "execute_result"
    }
   ],
   "source": [
    "# 타입어노테이션은 매개변수:타입으로 지정하고 함수를 :으로 지정하기 전에 -> 타입을 추가해주면 됨 \n",
    "\n",
    "def add(a:int, b:int) -> int:\n",
    "    return a + b\n",
    "\n",
    "add(4, 6)"
   ]
  },
  {
   "cell_type": "markdown",
   "metadata": {},
   "source": [
    "---"
   ]
  },
  {
   "cell_type": "markdown",
   "metadata": {},
   "source": [
    "[문제 6] 0부터 시작하여 n까지의 숫자 중에서 홀수만 생성하는 제너레이터 odd_numbers를 작성하세요."
   ]
  },
  {
   "cell_type": "code",
   "execution_count": 33,
   "metadata": {},
   "outputs": [
    {
     "name": "stdout",
     "output_type": "stream",
     "text": [
      "1\n",
      "3\n",
      "5\n",
      "7\n",
      "9\n",
      "11\n",
      "13\n",
      "15\n",
      "17\n",
      "19\n"
     ]
    }
   ],
   "source": [
    "# 제너레이터는 함수 내에서 return이 아니라 yield키워드를 사용함 \n",
    "# yield는 값을 하나씩 반환하며 함수의 상태를 유지하다가 다음에 호출되면 중단된 부분부터 다시 호출됨 \n",
    "# 답지에 있던 for문은 반복 횟수가 정해져 있을 때 주로 사용되고 while은 조건이 참인동안 계속 반복 \n",
    "# for문으로 하면 range같은 빌트인 메서드가 있어서 좋음, while은 직접 작성으로 귀찮음 \n",
    "# for문은 값의 순회에 좋고 while은 반복 횟수가 미정일 때 사용하면 좋음. \n",
    "\n",
    "def odd_number(numbers):\n",
    "    n = 0 \n",
    "    while n < numbers: \n",
    "        if n % 2 != 0: \n",
    "            yield n\n",
    "        n += 1\n",
    "\n",
    "for num in odd_number(20):\n",
    "    print(num)"
   ]
  },
  {
   "cell_type": "markdown",
   "metadata": {},
   "source": [
    "---"
   ]
  },
  {
   "cell_type": "markdown",
   "metadata": {},
   "source": [
    "[문제 7] 두 숫자를 더하는 람다 함수를 작성하고, 이를 변수에 할당한 후 사용하세요."
   ]
  },
  {
   "cell_type": "code",
   "execution_count": 34,
   "metadata": {},
   "outputs": [
    {
     "name": "stdout",
     "output_type": "stream",
     "text": [
      "11\n"
     ]
    }
   ],
   "source": [
    "add = lambda a, b: a + b\n",
    "result = add(5, 6)\n",
    "print(result) "
   ]
  },
  {
   "cell_type": "markdown",
   "metadata": {},
   "source": [
    "---"
   ]
  },
  {
   "cell_type": "markdown",
   "metadata": {},
   "source": [
    "[문제 8] 사용자로부터 3개의 숫자를 입력받아, 이를 튜플로 만든 후 최소값과 최대값을 출력하는 함수 min_max를 작성하세요."
   ]
  },
  {
   "cell_type": "code",
   "execution_count": 35,
   "metadata": {},
   "outputs": [
    {
     "name": "stdout",
     "output_type": "stream",
     "text": [
      "(3, 10)\n"
     ]
    }
   ],
   "source": [
    "def min_max(a:int, b:int, c:int) -> int:\n",
    "    return (min(a, b, c), max(a, b, c))\n",
    "\n",
    "result = min_max(a=10, b=3, c=7)\n",
    "print(result)"
   ]
  },
  {
   "cell_type": "markdown",
   "metadata": {},
   "source": [
    "---"
   ]
  },
  {
   "cell_type": "markdown",
   "metadata": {},
   "source": [
    "[문제 9] 주어진 숫자가 짝수인지 확인하는 함수 is_even을 작성하세요. 짝수라면 True를, 아니라면 False를 반환하세요. 함수 내에서 조기 리턴을 활용하세요."
   ]
  },
  {
   "cell_type": "code",
   "execution_count": 42,
   "metadata": {},
   "outputs": [
    {
     "name": "stdout",
     "output_type": "stream",
     "text": [
      "True\n",
      "False\n",
      "True\n"
     ]
    }
   ],
   "source": [
    "def is_even(numbers):\n",
    "    if numbers % 2 == 0: \n",
    "        return True\n",
    "    \n",
    "    return False\n",
    "\n",
    "print(is_even(6))\n",
    "print(is_even(9))\n",
    "print(is_even(0))"
   ]
  },
  {
   "cell_type": "markdown",
   "metadata": {},
   "source": [
    "---"
   ]
  },
  {
   "cell_type": "markdown",
   "metadata": {},
   "source": [
    "[문제 10] 팩토리얼을 계산하는 재귀 함수 factorial을 작성하세요."
   ]
  },
  {
   "cell_type": "code",
   "execution_count": 48,
   "metadata": {},
   "outputs": [
    {
     "data": {
      "text/plain": [
       "6"
      ]
     },
     "execution_count": 48,
     "metadata": {},
     "output_type": "execute_result"
    }
   ],
   "source": [
    "#return에 이 함수를 호출해 주어야 함. 이 부분을 잊어서 계속 안됨 (a * a-1을 계속 넣었는데 값이 다르게 나옴)\n",
    "# 재귀함수는 함수 내에서 꼭 자기 자신을 호출해야 함! \n",
    "# factorial을 구하려면 꼭 return 에서 자기 자신을 호출 recursive(a-1)\n",
    "\n",
    "def recursive(a):\n",
    "    if a == 0 or a == 1:\n",
    "        return 1\n",
    "    return a * recursive(a-1)\n",
    "\n",
    "recursive(3)\n",
    "\n"
   ]
  },
  {
   "cell_type": "markdown",
   "metadata": {},
   "source": [
    "---"
   ]
  },
  {
   "cell_type": "markdown",
   "metadata": {},
   "source": [
    "[문제 11] 문자열 리스트를 받아, 각 문자열의 길이를 출력하는 함수 print_lengths를 작성하세요."
   ]
  },
  {
   "cell_type": "code",
   "execution_count": 54,
   "metadata": {},
   "outputs": [
    {
     "data": {
      "text/plain": [
       "5"
      ]
     },
     "execution_count": 54,
     "metadata": {},
     "output_type": "execute_result"
    }
   ],
   "source": [
    "# def print_lengths(*stringlist):\n",
    "#     return len(stringlist)\n",
    "\n",
    "# print_lengths(\"리버야\", \"그만\", \"징징대렴\", \"곧\", \"끝난다\")\n",
    "\n",
    "# 이렇게 했는데, 문자열이 리스트가 아니라 튜플임.... \n",
    "# *stringlist로 여러 문자열 인수를 받고, 이 인자들이 튜플로 묶인 길이를 반환한 것임, 문자열을 계산하지는 않음 \n",
    "# 문자열 하나하나 길이를 알고 싶으면 반복문이나 리스트 컴프리헨션 필요. \n",
    "# *args는 문자열을 따로 하나씩 인자로 넘길때만 유효함. \n",
    "\n",
    "def print_lengths2(strings):\n",
    "    for string in strings: \n",
    "        return len(strings)\n",
    "\n",
    "print_lengths2([\"리버야\", \"그만\", \"징징대렴\", \"곧\", \"끝난다\"])"
   ]
  },
  {
   "cell_type": "markdown",
   "metadata": {},
   "source": [
    "---"
   ]
  },
  {
   "cell_type": "markdown",
   "metadata": {},
   "source": [
    "[문제 12] 두 문자열을 받아서 긴 문자열을 반환하는 함수 longer_string을 작성하세요. 만약 두 문자열의 길이가 같다면, 첫 번째 문자열을 반환하세요."
   ]
  },
  {
   "cell_type": "code",
   "execution_count": 62,
   "metadata": {},
   "outputs": [
    {
     "name": "stdout",
     "output_type": "stream",
     "text": [
      "River\n"
     ]
    }
   ],
   "source": [
    "# def longer_string(a, b): \n",
    "#     return max(a, b)\n",
    "\n",
    "# print(longer_string(\"한리버\", \"리버\"))\n",
    "\n",
    "# 이렇게 했는데...\n",
    "# max를 사용하면 a와 b를 사전식으로 비교해서 큰 값을 반환한다고 함 \n",
    "# 즉, 사전식으로 한리버가 리버보다 더 길기 때문에 한리버 반환 \n",
    "# len을 사용해야 문자열 길이가 더 긴 것을 반환함.  \n",
    "# 그래서 key=len을 붙여줌. \n",
    "\n",
    "def longer_string(a, b):\n",
    "    return max(a, b, key=len)\n",
    "\n",
    "print(longer_string(\"River\", \"리버\"))\n",
    "\n"
   ]
  }
 ],
 "metadata": {
  "kernelspec": {
   "display_name": "Python 3",
   "language": "python",
   "name": "python3"
  },
  "language_info": {
   "codemirror_mode": {
    "name": "ipython",
    "version": 3
   },
   "file_extension": ".py",
   "mimetype": "text/x-python",
   "name": "python",
   "nbconvert_exporter": "python",
   "pygments_lexer": "ipython3",
   "version": "3.9.6"
  }
 },
 "nbformat": 4,
 "nbformat_minor": 2
}
