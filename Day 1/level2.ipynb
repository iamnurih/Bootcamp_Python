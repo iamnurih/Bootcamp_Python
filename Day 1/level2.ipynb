{
  "cells": [
    {
      "cell_type": "markdown",
      "metadata": {
        "id": "WXEwMsfUct7U"
      },
      "source": [
        "안녕하세요.<br><br>\n",
        "수강생 여러분~!\n",
        "\n",
        "\"Challenge : 사칙연산을 이용해 문제 풀기\"는 잘 풀어보셨나요?\n",
        "\n",
        "\n",
        "너~~무 어려웠어요! 하는 분들을 위해 만들어봤습니다!\n",
        "\n",
        "문제 도장깨기 !!!!!\n",
        "\n",
        "차근차근 풀어나가면 파이썬 정복 가능입니다!\n",
        "\n",
        "화이팅 !\n",
        "\n",
        "Chapter04의 수업 내용을 바탕으로 아래 문제를 풀어주시면 됩니다.\n",
        "\n",
        "<br/>\n",
        "간혹 강의에서 언급되지 않은 내용이 문제로 나올 수 있습니다.<br>\n",
        "그럴땐 강의 내용 외 문제는 구글링을 통해 해결해주세요<br></span>\n",
        "<span style=\"font-size:80%\">\n",
        "(구글링 또한 개발자가 갖쳐야할 역량 중에 하나랍니다 😊)\n",
        "</span>\n",
        "\n",
        "\n",
        "<br>\n",
        "<br>\n",
        "\n",
        "[**답변 입력 방법**]\n",
        "\n",
        "문제 아래에 있는 코드 입력창에 정답코드를 작성하신 후  __▷ 버튼을 클릭해 코드를 실행__ 해보세요<br>\n",
        "<br>"
      ]
    },
    {
      "cell_type": "markdown",
      "metadata": {
        "id": "qoyC9wF-3hvs"
      },
      "source": [
        "-----"
      ]
    },
    {
      "cell_type": "markdown",
      "metadata": {
        "id": "IT-n73MOTais"
      },
      "source": [
        "<br>\n",
        "\n",
        "__[문제1]__\n",
        "\n",
        "한 주머니에 사탕이 5개씩 들어있습니다.\n",
        "\n",
        "바리바리스타인 나에게는 3개의 주머니가 있습니다!\n",
        "\n",
        "근데 길가다가 사탕을 주웠습니다. 그래서 사탕 3개가 주머니에 더 추가되었습니다.\n",
        "\n",
        "최종적으로 주머니에 들어있는 사탕의 총 개수는 얼마인가요?\n",
        "\n",
        "<br>"
      ]
    },
    {
      "cell_type": "code",
      "execution_count": 2,
      "metadata": {
        "id": "1RJ_D2EGTais"
      },
      "outputs": [
        {
          "name": "stdout",
          "output_type": "stream",
          "text": [
            "총 사탕의 개수는 18개입니다.\n"
          ]
        }
      ],
      "source": [
        "candy_in_bag = 5\n",
        "number_of_bags = 3\n",
        "pick_me_pick_me_pick_me_up = 3\n",
        "total_candy = (candy_in_bag * number_of_bags) + pick_me_pick_me_pick_me_up\n",
        "print(f\"총 사탕의 개수는 {total_candy}개입니다.\")\n"
      ]
    },
    {
      "cell_type": "markdown",
      "metadata": {
        "id": "xCC68qp3Tait"
      },
      "source": [
        "<br>\n",
        "\n",
        "__[문제2]__\n",
        "\n",
        "10명이 각자 4개의 공을 가지고 있습니다.\n",
        "\n",
        "운이 좋은 3명이 2개의 공을 더 받았습니다.\n",
        "\n",
        "10명이 가진 모든 공의 총 개수를 구하세요.\n"
      ]
    },
    {
      "cell_type": "code",
      "execution_count": 3,
      "metadata": {
        "id": "2zoDcj1ITaiu"
      },
      "outputs": [
        {
          "name": "stdout",
          "output_type": "stream",
          "text": [
            "총 공의 개수는 46개입니다.\n"
          ]
        }
      ],
      "source": [
        "number_of_people = 10\n",
        "number_of_ball = 4 \n",
        "lucky_you = 2*3\n",
        "total_ball = (number_of_people * number_of_ball) + lucky_you\n",
        "print(f\"총 공의 개수는 {total_ball}개입니다.\")"
      ]
    },
    {
      "cell_type": "markdown",
      "metadata": {
        "id": "vYmoL8LjTaiv"
      },
      "source": [
        "<br>\n",
        "\n",
        "__[문제3]__\n",
        "\n",
        "5명의 학생이 3시간씩 공부했습니다.\n",
        "\n",
        "이상한 강박관념이 있는 나는 모든 시간을 분으로 계산하고 싶습니다.\n",
        "\n",
        "대신 계산해주세요 !\n"
      ]
    },
    {
      "cell_type": "code",
      "execution_count": 6,
      "metadata": {
        "id": "74wtVQFFc_h1"
      },
      "outputs": [
        {
          "name": "stdout",
          "output_type": "stream",
          "text": [
            "총 공부 시간은 15시간인데 분으로 계산하면 900분이야 강박을 내려 놓도록해.\n"
          ]
        }
      ],
      "source": [
        "number_of_students = 5\n",
        "study_hours = 3\n",
        "total_study_in_hours = (number_of_students * study_hours)\n",
        "total_study_in_minutes = (total_study_in_hours * 60)\n",
        "print(f\"총 공부 시간은 {total_study_in_hours}시간인데 분으로 계산하면 {total_study_in_minutes}분이야 강박을 내려 놓도록해.\")"
      ]
    },
    {
      "cell_type": "markdown",
      "metadata": {
        "id": "PsT4tvOQTaiz"
      },
      "source": [
        "<br>\n",
        "\n",
        "__[문제4]__\n",
        "\n",
        "차가 9리터의 연료를 가지고 있습니다.\n",
        "\n",
        "연료가 3일 동안 계속 줄어들며, 하루에 2리터씩 소비됩니다.\n",
        "\n",
        "3일 뒤 차에 남은 연료는 몇 리터인가요?"
      ]
    },
    {
      "cell_type": "code",
      "execution_count": 8,
      "metadata": {
        "id": "9kvBxa6PdhgA"
      },
      "outputs": [
        {
          "name": "stdout",
          "output_type": "stream",
          "text": [
            "연료가 3L 남아서 주유소 가야돼.\n"
          ]
        }
      ],
      "source": [
        "fuel_in_tank = 9 \n",
        "total_days = 3\n",
        "fuel_spent_per_day = 2\n",
        "total_fuel_spent = (fuel_spent_per_day * total_days)\n",
        "total_fuel_left = (fuel_in_tank - total_fuel_spent)\n",
        "print(f\"연료가 {total_fuel_left}L 남아서 주유소 가야돼.\")"
      ]
    },
    {
      "cell_type": "markdown",
      "metadata": {
        "id": "2Jte2VLKdiPm"
      },
      "source": [
        "__[문제5]__\n",
        "\n",
        "어떤 정사각형의 넓이가 144cm²입니다.\n",
        "\n",
        "정사각형의 한 변의 길이를 구하세요.\n"
      ]
    },
    {
      "cell_type": "code",
      "execution_count": null,
      "metadata": {
        "id": "nMsEE2XdTai1"
      },
      "outputs": [
        {
          "name": "stdout",
          "output_type": "stream",
          "text": [
            "정사각형의 넓이가 144cm² 일 때, 한 변의 길이는 12cm²입니다.\n"
          ]
        }
      ],
      "source": [
        "square_area = 144\n",
        "side_length = int(square_area ** 0.5)\n",
        "print(f\"정사각형의 넓이가 {square_area}cm\\u00B2 일 때, 한 변의 길이는 {side_length}cm\\u00B2입니다.\")\n",
        "\n",
        "\n",
        "# 정수끼리 덧, 뺄, 곱 을 하면 기본적 반환값은 정수. \n",
        "# 하지만 실수(0.5)와 정수 (144)끼리 곱하면 실수가 연산값으로 반환됨 \n",
        "# float 하고 싶지 않으면 int()로 감싸주면 된다 (혹은 몫 연산자인 // 사용)\n",
        "# 유니코드는 특수문자나 기호를 표현할 수 있는 코드 체계로, 통일된 표준 문자 인코딩 체계 \n",
        "# 컴퓨터는 기본적으로 0과 1로 이루어진 이진수로만 이해하는데 문자를 표현하기 위해서 각각의 문자에 고유한 코드를 부여하는 방식을 인코딩이라고 함\n",
        "# 전 세계 모든 문자를 표현할 수 있고, 문자마다 고유한 번호가 있음 (예: 한글 \"가\"는 U+AC00)\n",
        "# 제곱기호(위첨자 2)는 유니코드에서 U+00B2로 표현됨 (Superscript Two)\n",
        " "
      ]
    },
    {
      "cell_type": "markdown",
      "metadata": {
        "id": "VeKfloDEU3C5"
      },
      "source": [
        "<br>\n",
        "\n",
        "__[문제6]__\n",
        "\n",
        "오즈 코딩 스쿨 백엔드 과정에 참여한 수강생 중 5명의 수강생이 자율적으로 스터디 그룹을 결성했습니다.\n",
        "\n",
        "스터디 그룹 내에는 한 주간 배운 내용으로 매주 쪽지 시험을 보는 룰이 있습니다.\n",
        "\n",
        "이 쪽지 시험의 평균이 70점이 넘으면 주말 스터디는 없습니다.\n",
        "\n",
        "이들의 평균 점수를 대신 계산해주세요.\n",
        "\n",
        "<br>\n",
        "A: 65, B: 75, C: 50, D: 80, E: 60\n",
        "\n",
        "<br>\n"
      ]
    },
    {
      "cell_type": "code",
      "execution_count": null,
      "metadata": {
        "id": "avyqM7U7U3C6"
      },
      "outputs": [
        {
          "name": "stdout",
          "output_type": "stream",
          "text": [
            "오즈의 마법사 반의 평균 점수는 66.0점입니다.\n",
            "주말에 만나자 ㅠㅠ\n"
          ]
        }
      ],
      "source": [
        "oz_students = 5\n",
        "target_average = 70 \n",
        "oz_average = ((65+75+50+80+60)/oz_students)\n",
        "\n",
        "print(f\"오즈의 마법사 반의 평균 점수는 {oz_average}점입니다.\")\n",
        "\n",
        "if oz_average > target_average:\n",
        "    print(\"주말 자유\")\n",
        "else:\n",
        "    print(\"주말에 만나자 ㅠㅠ\")\n",
        "\n",
        "\n",
        "# 연산자: > 초과, < 미만, == 같음 != 다름 >= 이상 <= 이하 \n",
        "# 조건문 if 처음 사용함. "
      ]
    }
  ],
  "metadata": {
    "colab": {
      "provenance": []
    },
    "kernelspec": {
      "display_name": "Python 3",
      "name": "python3"
    },
    "language_info": {
      "codemirror_mode": {
        "name": "ipython",
        "version": 3
      },
      "file_extension": ".py",
      "mimetype": "text/x-python",
      "name": "python",
      "nbconvert_exporter": "python",
      "pygments_lexer": "ipython3",
      "version": "3.9.6"
    }
  },
  "nbformat": 4,
  "nbformat_minor": 0
}
