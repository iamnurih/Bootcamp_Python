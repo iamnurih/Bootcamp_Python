{
 "cells": [
  {
   "cell_type": "markdown",
   "metadata": {},
   "source": [
    "안녕하세요. 수강생 여러분~! Chapter33 ~ 41 수업은 잘 들으셨나요?\n",
    "\n",
    "Chapter33 ~ 41의 수업 내용을 바탕으로 아래 문제를 풀어주시면 됩니다.\n",
    "\n",
    "\n",
    "<br>\n",
    "\n",
    "\n",
    "[**답변 입력 방법**]\n",
    "\n",
    "문제 아래에 있는 코드 입력창에 정답코드를 작성하신 후  __▷ 버튼을 클릭해 코드를 실행__ 해보세요<br>"
   ]
  },
  {
   "cell_type": "markdown",
   "metadata": {},
   "source": [
    "---"
   ]
  },
  {
   "cell_type": "markdown",
   "metadata": {},
   "source": [
    "[문제 1]\n",
    "\n",
    "사용자로부터 두 개의 숫자를 입력받아 나눗셈을 수행하는 프로그램을 작성하세요. \n",
    "\n",
    "[예외처리]\n",
    "- 입력 값이 숫자가 아닐 때 발생할 수 있는 ValueError\n",
    "- 나누는 수가 0일 때 발생할 수 있는 ZeroDivisionError\n",
    "- 위 2가지 예외처리 후 사용자에게 이해하기 쉬운 메시지 작성 후 출력되도록 코드를 작성"
   ]
  },
  {
   "cell_type": "code",
   "execution_count": null,
   "metadata": {},
   "outputs": [
    {
     "ename": "ValueError",
     "evalue": "invalid literal for int() with base 10: 'ㅔ'",
     "output_type": "error",
     "traceback": [
      "\u001b[0;31m---------------------------------------------------------------------------\u001b[0m",
      "\u001b[0;31mValueError\u001b[0m                                Traceback (most recent call last)",
      "Cell \u001b[0;32mIn[5], line 21\u001b[0m\n\u001b[1;32m     18\u001b[0m         \u001b[38;5;28;01mreturn\u001b[39;00m \u001b[38;5;28;01mNone\u001b[39;00m\n\u001b[1;32m     20\u001b[0m val1 \u001b[38;5;241m=\u001b[39m \u001b[38;5;28mint\u001b[39m(\u001b[38;5;28minput\u001b[39m(\u001b[38;5;124m\"\u001b[39m\u001b[38;5;124m분자를 입력하세요\u001b[39m\u001b[38;5;124m\"\u001b[39m))\n\u001b[0;32m---> 21\u001b[0m val2 \u001b[38;5;241m=\u001b[39m \u001b[38;5;28;43mint\u001b[39;49m\u001b[43m(\u001b[49m\u001b[38;5;28;43minput\u001b[39;49m\u001b[43m(\u001b[49m\u001b[38;5;124;43m\"\u001b[39;49m\u001b[38;5;124;43m분모를 입력하세요\u001b[39;49m\u001b[38;5;124;43m\"\u001b[39;49m\u001b[43m)\u001b[49m\u001b[43m)\u001b[49m\n\u001b[1;32m     22\u001b[0m result \u001b[38;5;241m=\u001b[39m division(val1, val2)\n\u001b[1;32m     23\u001b[0m \u001b[38;5;28;01mif\u001b[39;00m result \u001b[38;5;129;01mis\u001b[39;00m \u001b[38;5;129;01mnot\u001b[39;00m \u001b[38;5;28;01mNone\u001b[39;00m:\n",
      "\u001b[0;31mValueError\u001b[0m: invalid literal for int() with base 10: 'ㅔ'"
     ]
    }
   ],
   "source": [
    "# 1트\n",
    "# 처음에 작업 했더니, None이 같이 반환되었음. \n",
    "# 함수에서 오류가 발생했을 때 print문으로 메시지만 출력하고, 실제로는 아무 값도 반환하지 않으면 None 반환. \n",
    "# None을 반환하지 않기 위해서는 함수가 오류가 나도 뭔가를 반환하도록 return값을 설정해 주어야 함. \n",
    "# 그리고 출력을 요청할 때 None이 아닌 경우 출력해달라고 조건을 달면 됨. \n",
    "# 수정한 코드는 다음과 같음. \n",
    "\n",
    "def division(val1, val2):\n",
    "    try: \n",
    "        return val1/val2\n",
    "    except ValueError:\n",
    "        print(f\"숫자를 입력해 주세요\")\n",
    "        return None\n",
    "    except ZeroDivisionError: \n",
    "        print(f\"0이 아닌 다른 수를 입력하세요.\")\n",
    "        return None\n",
    "    except Exception as e: \n",
    "        print(f\"예상치 못한 오류가 발생했습니다: {e}\")\n",
    "        return None\n",
    "\n",
    "val1 = int(input(\"분자를 입력하세요\"))\n",
    "val2 = int(input(\"분모를 입력하세요\"))\n",
    "result = division(val1, val2)\n",
    "if result is not None:\n",
    "    print(division(val1, val2))\n",
    "\n"
   ]
  },
  {
   "cell_type": "markdown",
   "metadata": {},
   "source": [
    "---"
   ]
  },
  {
   "cell_type": "code",
   "execution_count": null,
   "metadata": {},
   "outputs": [
    {
     "name": "stdout",
     "output_type": "stream",
     "text": [
      "숫자를 입력해 주세요\n"
     ]
    }
   ],
   "source": [
    "# 2트\n",
    "# 위에서 함수를 호출하기 전에 val1, val2를 int로 변환시켰더니 \n",
    "# 숫자 외 값이 들어갔을 때 내가 입력한 오류처리 문구가 뜨는게 아니라 그냥 ValueError가 발생해 버림. \n",
    "# 문제를 해결하기 위해서 val1, 2를 숫자로 바꾸는 기능을 함수 안에 추가 해야 함. \n",
    "# 아래처럼 수정. \n",
    "# 만족..... (뿌듯)\n",
    "\n",
    "def division(val1, val2):\n",
    "    try: \n",
    "        num1 = int(val1)\n",
    "        num2 = int(val2)\n",
    "        return num1/num2\n",
    "    except ValueError:\n",
    "        print(f\"숫자를 입력해 주세요\")\n",
    "        return None\n",
    "    except ZeroDivisionError: \n",
    "        print(f\"0이 아닌 다른 수를 입력하세요.\")\n",
    "        return None\n",
    "    except Exception as e: \n",
    "        print(f\"예상치 못한 오류가 발생했습니다: {e}\")\n",
    "        return None\n",
    "\n",
    "val1 = input(\"분자를 입력하세요\")\n",
    "val2 = input(\"분모를 입력하세요\")\n",
    "result = division(val1, val2)\n",
    "if result is not None:\n",
    "    print(result)\n"
   ]
  },
  {
   "cell_type": "markdown",
   "metadata": {},
   "source": [
    "[문제 2]\n",
    "\n",
    "파일을 읽어서 내용을 출력하는 프로그램을 작성하세요. \n",
    "\n",
    "- 파일이 존재하지 않을 때 발생하는 FileNotFoundError를 처리\n",
    "- 파일이 존재하지 않을 경우 \"파일을 찾을 수 없습니다.\"라는 메시지를 출력"
   ]
  },
  {
   "cell_type": "code",
   "execution_count": null,
   "metadata": {},
   "outputs": [
    {
     "name": "stdout",
     "output_type": "stream",
     "text": [
      "파일을 찾을 수 없습니다.\n"
     ]
    }
   ],
   "source": [
    "# 팀프로젝트 때 하는 코드 발견 (기쁨 lv 10)\n",
    "# with 구문은 파일 리소스를 다룰 때 유용한 문법. 자동으로 리서스를 열고 닫아줌. \n",
    "# with open으로 파일을 열고, 그 파일 객체를 file이라는 변수에 할당. \n",
    "# with의 특징은 블록을 벗어나면 with가 자동으로 파일을 닫아준다는데 있음. 그러므로 file.close() 호출 불필요. \n",
    "\n",
    "def file_loading(filepath):\n",
    "    try: \n",
    "        with open(filepath, encoding='utf-8') as file: \n",
    "            #file을 읽어서 content라는 편수에 문자열로 저장하라는 뜻 \n",
    "            content = file.read()\n",
    "            #파일이 닫히는 곳은 여기. \n",
    "        return content\n",
    "    except FileNotFoundError:\n",
    "        print(\"파일을 찾을 수 없습니다.\")\n",
    "        return None\n",
    "    except Exception as e:\n",
    "        print(f\"예상치 못한 오류 {e}가 발생했습니다.\")\n",
    "        return None \n",
    "    \n",
    "filepath = \"non_existingfile.txt\"\n",
    "result = file_loading(filepath)\n",
    "if result is not None:\n",
    "    print(result)"
   ]
  },
  {
   "cell_type": "markdown",
   "metadata": {},
   "source": [
    "---"
   ]
  },
  {
   "cell_type": "markdown",
   "metadata": {},
   "source": [
    "[문제 3]\n",
    "\n",
    "사용자로부터 여러 개의 숫자를 입력받아 리스트에 저장한 후, 사용자가 'done'이라고 입력할 때까지 계속 입력받으세요. \n",
    "\n",
    "- 입력 중 숫자가 아닌 값이 입력되면 ValueError를 처리\n",
    "- 숫자 외 값이 입력된 경우 어떤 값이 잘못 입력되었는지 사용자에게 알려주는 문구 출력<br>\n",
    "  (예: f\"잘못된 값: {변수}. 숫자를 입력해주세요.\")\n",
    "\n"
   ]
  },
  {
   "cell_type": "code",
   "execution_count": 2,
   "metadata": {},
   "outputs": [
    {
     "name": "stdout",
     "output_type": "stream",
     "text": [
      "숫자를 입력하거나 done을 입력하세요\n"
     ]
    }
   ],
   "source": [
    "# 숫자를 한꺼번에 다중으로 입력을 받을건지 1, 2, 3 이걸 한줄에 여러번 나눠 받을건지 고민 한참함 \n",
    "# 숫자를 하나씩 나눠 받는 것으로 코드 짜봄 \n",
    "\n",
    "def multiplenums():\n",
    "    int_list = []\n",
    "    while True: \n",
    "        num = input(\"수를 입력하세요, 종료하려면 done을 입력하세요.\")\n",
    "        if num == \"done\":\n",
    "            break \n",
    "        try: \n",
    "            int_list.append(int(num))\n",
    "        except ValueError: \n",
    "            print(f\"숫자를 입력하거나 done을 입력하세요\")\n",
    "            return None\n",
    "        except Exception as e: \n",
    "            print(f\"예상치 못한 오류 {e}가 발생했습니다.\")\n",
    "            return None \n",
    "    return int_list\n",
    "\n",
    "result = multiplenums()\n",
    "if result is not None:\n",
    "    print(result)\n",
    "        "
   ]
  },
  {
   "cell_type": "markdown",
   "metadata": {},
   "source": [
    "---"
   ]
  },
  {
   "cell_type": "markdown",
   "metadata": {},
   "source": [
    "[문제 4]\n",
    "\n",
    "사용자 정의 예외 NegativeNumberError를 생성하고, 사용자로부터 숫자를 입력받아 음수일 경우 NegativeNumberError를 발생시키는 프로그램을 작성하세요. \n",
    "\n",
    "- 예외 처리 구문을 사용하여 음수 입력 시 \"양수를 입력해주세요.\"라는 메시지를 출력"
   ]
  },
  {
   "cell_type": "code",
   "execution_count": null,
   "metadata": {},
   "outputs": [
    {
     "data": {
      "text/plain": [
       "3"
      ]
     },
     "execution_count": 5,
     "metadata": {},
     "output_type": "execute_result"
    }
   ],
   "source": [
    "# 1트... \n",
    "# 작동은 하는데.. 답지보니 뭔가 잘못됨을 감지해서.. 2트 갑니다.. \n",
    "\n",
    "def positivenum(number):\n",
    "    if number > 0:\n",
    "        return(number)\n",
    "    else:\n",
    "        print(f\"PositiveNumberError: 양수를 입력해 주세요\")\n",
    "\n",
    "result = int(input(\"양수를 입력하세요\"))\n",
    "positivenum(result)"
   ]
  },
  {
   "cell_type": "code",
   "execution_count": null,
   "metadata": {},
   "outputs": [],
   "source": [
    "# 2트... \n",
    "# 예외 클래스를 새롭게 만드는 방법\n",
    "# 파이썬 내장 예외 클래스인 Exception을 상속받아서, 새로운 사용자 정의 예외를 만드는 것 \n",
    "class NegativeNumberError(Exception):\n",
    "    \n",
    "    #생성자 메서드 \n",
    "    # -> None은 함수가 반환값이 없음을 의미하는 타입 힌트. \n",
    "    # 예외를 만들 때 message를 받아서 초기화 하는 함수\n",
    "    def __init__ (self, message) -> None: \n",
    "        \n",
    "        # 예외 객체 속성 중 하나로 \"contact_name\"이라는 이름에 \"NegativeNumberError\"라는 문자열을 지정. \n",
    "        self.contact_name = \"NegativeNumberError\"\n",
    "        \n",
    "        # 예외가 받아 온 메시지를 self.message 속성에 저장. \n",
    "        # 나중에 예외가 출력될 때 사용할 메시지\n",
    "        self.message = message \n",
    "        \n",
    "        # 부모 클래스 Exception의 생성자를 호출 \n",
    "        # 메시지 부모 클래스에 전달 \n",
    "        super().__init__(message)\n",
    "    \n",
    "    # 예외 객체를 문자열로 출력할때 호출되는 함수 \n",
    "    def __init__(self) -> str: \n",
    "        \n",
    "        # 에러 이름과, 메시지를 함께 출력 \n",
    "        return f\"{self.contact_name} : {self.message}\"\n",
    "    \n",
    "    # 예외가 발생할 가능성이 있는 코드 블록 시작점\n",
    "try: \n",
    "    number = int(input(\"양수를 입력하세요\"))\n",
    "    if number < 0: \n",
    "        raise NegativeNumberError (\"음수가 입력되었습니다. 양수를 입력해주세요.\")\n",
    "        \n",
    "except NegativeNumberError as e: \n",
    "    print(e)\n",
    "\n",
    "# 내가 만든 코드와 다른점: \n",
    "# 예외를 사용자 정의 함 \n",
    "# 예외객체로 명확한 오류 관리 및 흐름 제어 가능 \n",
    "# 입력값을 검증하고 오류를 처리하는 방식\n",
    "# 내가 만든건 그냥 예외를 사용하지 않고 조건문으로 메시지만 출력하도록 둔것임 \n",
    "# 단순 출력이고 프로그램 흐름 제어는 불가능 \n"
   ]
  },
  {
   "cell_type": "markdown",
   "metadata": {},
   "source": [
    "---"
   ]
  },
  {
   "cell_type": "markdown",
   "metadata": {},
   "source": [
    "[문제 5]\n",
    "\n",
    "datetime 모듈을 사용하여 현재 날짜와 시간을 출력하는 프로그램을 작성하세요. \n",
    "\n",
    "또한, 사용자로부터 태어난 년도를 입력받아 현재 나이를 계산하여 출력하세요."
   ]
  },
  {
   "cell_type": "code",
   "execution_count": 23,
   "metadata": {},
   "outputs": [
    {
     "name": "stdout",
     "output_type": "stream",
     "text": [
      "지금은 25-08-29 21:36 입니다.\n"
     ]
    },
    {
     "data": {
      "text/plain": [
       "40"
      ]
     },
     "execution_count": 23,
     "metadata": {},
     "output_type": "execute_result"
    }
   ],
   "source": [
    "from datetime import datetime\n",
    "\n",
    "now = datetime.now()\n",
    "\n",
    "# 형식 지정을 하지 않으면 microsecond까지 너무 길게 출력해줌 \n",
    "# \n",
    "formatted_now = now.strftime(\"%y-%m-%d %H:%M\")\n",
    "print(f\"지금은 {formatted_now} 입니다.\")\n",
    "\n",
    "def age_cal():\n",
    "    current_year = datetime.now().year\n",
    "    birth_year = input(\"태어난 년도를 입력하세요\")\n",
    "    if birth_year.isdigit():\n",
    "       birth_year = int(birth_year)\n",
    "       age = current_year - birth_year\n",
    "       return(age)\n",
    "    else: \n",
    "         print(\"연도를 입력하세요\")\n",
    "         return None\n",
    "\n",
    "\n",
    "age_cal()\n",
    "\n",
    "\n"
   ]
  },
  {
   "cell_type": "markdown",
   "metadata": {},
   "source": [
    "---"
   ]
  },
  {
   "cell_type": "markdown",
   "metadata": {},
   "source": [
    "[문제 6]\n",
    "\n",
    "requests 모듈을 사용하여, 웹 페이지의 HTML을 가져오는 간단한 웹 스크레이퍼를 작성하세요.\n",
    "\n",
    "'https://kream.co.kr/'에서<br> \n",
    "데이터를 가져와서 상태 코드와 HTML의 첫 100자를 출력하세요.<br>\n",
    "(실습 전 requests 모듈을 설치해야 함)"
   ]
  },
  {
   "cell_type": "code",
   "execution_count": 24,
   "metadata": {},
   "outputs": [
    {
     "name": "stdout",
     "output_type": "stream",
     "text": [
      "500\n",
      "<!DOCTYPE html>\n",
      "<html lang=\"ko\">\n",
      "<head>\n",
      "<meta name=\"robots\" content=\"noindex, nofollow\" />\n",
      "<meta htt\n"
     ]
    }
   ],
   "source": [
    "import requests\n",
    "\n",
    "url = ('https://kream.co.kr/')\n",
    "response = requests.get(url)\n",
    "html_content = response.text\n",
    "print(response.status_code)\n",
    "print(html_content[:100])"
   ]
  },
  {
   "cell_type": "markdown",
   "metadata": {},
   "source": [
    "---"
   ]
  },
  {
   "cell_type": "markdown",
   "metadata": {},
   "source": [
    "[문제 7]\n",
    "\n",
    "함수 실행 시간을 측정하는 데코레이터 timer_decorator를 작성하세요. \n",
    "\n",
    "임의의 함수가 실행되는 시간을 측정하여 \"함수 실행 시간: x.xx초\" 형태로 출력하세요."
   ]
  },
  {
   "cell_type": "code",
   "execution_count": 25,
   "metadata": {},
   "outputs": [
    {
     "name": "stdout",
     "output_type": "stream",
     "text": [
      "sample_fuction 함수 실행 시간: 0.00 초\n"
     ]
    }
   ],
   "source": [
    "import time\n",
    "\n",
    "def time_checer_decorator(func):\n",
    "    def wrapper(*args, **kwargs): \n",
    "        start_time = time.time()\n",
    "        result = func(*args, **kwargs)\n",
    "        end_time = time.time() \n",
    "        elapsed_time = end_time -start_time\n",
    "        print(f\"{func.__name__} 함수 실행 시간: {elapsed_time:.2f} 초\")\n",
    "        return result \n",
    "    return wrapper \n",
    "\n",
    "@time_checer_decorator\n",
    "def sample_fuction():\n",
    "    for _ in range(100000): \n",
    "        pass \n",
    "\n",
    "sample_fuction()\n",
    "\n"
   ]
  },
  {
   "cell_type": "markdown",
   "metadata": {},
   "source": [
    "---"
   ]
  },
  {
   "cell_type": "markdown",
   "metadata": {},
   "source": [
    "[문제 8]\n",
    "\n",
    "여러분이 자주 사용하는 수학적 연산<br>\n",
    "(예: 삼각형 넓이, 원의 넓이, 직육면체의 넓이)을 수행하는 함수들을 포함하는 mymath.py라는 이름의 모듈을 만드세요. \n",
    "\n",
    "이 모듈을 사용하여 작성된 함수들을 실제로 임포트하고 사용하는 간단한 프로그램을 작성하세요."
   ]
  },
  {
   "cell_type": "code",
   "execution_count": null,
   "metadata": {},
   "outputs": [],
   "source": [
    " # 파일 saved as mymath.py\n",
    "\n",
    "def triangle_area(height, width): \n",
    "    result = (height * width) / 2\n",
    "    return (result)\n",
    "\n",
    "def circle_area(radius):\n",
    "    pi = 3.14 \n",
    "    return pi * radius **2\n",
    "\n",
    "def cuboid_area(length, width, height):\n",
    "    return ((length * width) + (width * height) + (length * height)) * 2\n"
   ]
  },
  {
   "cell_type": "code",
   "execution_count": null,
   "metadata": {},
   "outputs": [],
   "source": [
    "from mymath import triangle_area, circle_area, cuboid_area\n",
    "\n",
    "triangle_area(3, 7)\n",
    "print(f\"삼각형의 넓이: {triangle_area}\")\n",
    "\n",
    "circle_area(10)\n",
    "print(f\"원의 넓이: {circle_area}\")\n",
    "\n",
    "cuboid_area(7, 8, 10)\n",
    "print(f\"직육면체의 넓이: {cuboid_area}\")\n",
    "\n"
   ]
  },
  {
   "cell_type": "markdown",
   "metadata": {},
   "source": [
    "---"
   ]
  },
  {
   "cell_type": "markdown",
   "metadata": {},
   "source": [
    "[문제 9]\n",
    "\n",
    "animals라는 패키지를 만들고, 이 패키지 내에 mammals, birds라는 두 개의 서브 모듈을 생성하세요. \n",
    "\n",
    "- 각 모듈에는 최소한 한 개 이상의 동물에 관한 클래스를 정의하세요<br>\n",
    "  (예: mammals에는 Dog, birds에는 Eagle)\n",
    "- 이 패키지와 모듈을 사용하여 동물들의 정보를 출력하는 프로그램을 작성\n",
    "\n",
    "폴더 및 파일 구조\n",
    "```\n",
    "animals/(폴더)\n",
    "├── __init__.py\n",
    "├── mammals.py\n",
    "└── birds.py\n",
    "```\n"
   ]
  },
  {
   "cell_type": "code",
   "execution_count": null,
   "metadata": {},
   "outputs": [],
   "source": []
  },
  {
   "cell_type": "code",
   "execution_count": null,
   "metadata": {},
   "outputs": [],
   "source": [
    "# animals/__init__.py \n",
    "\n",
    "\"\"\"동물의 특징을 나타내주는 패키지입니다\"\"\"\n",
    "\n"
   ]
  },
  {
   "cell_type": "code",
   "execution_count": null,
   "metadata": {},
   "outputs": [],
   "source": [
    "# animal/mammal.py \n",
    "\n",
    "class Mammal: \n",
    "    def __init__(self, name, fur=True):\n",
    "        self.name = name \n",
    "        self.fur = fur\n",
    "    def describe(self):\n",
    "        fur_status = \"있음\" if self.fur else \"없음\"\n",
    "        return f\"{self.name}은(는) 털이 {fur_status}.\"\n"
   ]
  },
  {
   "cell_type": "code",
   "execution_count": null,
   "metadata": {},
   "outputs": [],
   "source": [
    "# animal/bird.py\n",
    "\n",
    "class Birds:\n",
    "    def __init__(self, name, beak=True):\n",
    "        self.name = name\n",
    "        self.beak = beak\n",
    "    def describe(self):\n",
    "        beak_status = \"있음\" if self.beak else \"없음\"\n",
    "        return f\"{self.name}은(는) 부리가 {beak_status}.\"\n"
   ]
  },
  {
   "cell_type": "code",
   "execution_count": null,
   "metadata": {},
   "outputs": [],
   "source": [
    "# 실행 \n",
    "\n",
    "import animals \n",
    "from animals import mammal\n",
    "from animals import bird"
   ]
  },
  {
   "cell_type": "markdown",
   "metadata": {},
   "source": [
    "---"
   ]
  }
 ],
 "metadata": {
  "kernelspec": {
   "display_name": "Python 3",
   "language": "python",
   "name": "python3"
  },
  "language_info": {
   "codemirror_mode": {
    "name": "ipython",
    "version": 3
   },
   "file_extension": ".py",
   "mimetype": "text/x-python",
   "name": "python",
   "nbconvert_exporter": "python",
   "pygments_lexer": "ipython3",
   "version": "3.9.6"
  }
 },
 "nbformat": 4,
 "nbformat_minor": 2
}
