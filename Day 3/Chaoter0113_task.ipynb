{
 "cells": [
  {
   "cell_type": "markdown",
   "metadata": {
    "id": "fD4Qab2qYgOm"
   },
   "source": [
    "안녕하세요. 수강생 여러분~! \n",
    "\n",
    "Chapter01 ~ 13의 수업 내용을 바탕으로 아래 문제를 풀어주시면 됩니다 !\n",
    "\n",
    "지금까지 잘 해오셨으니까, 총 복습한다고 생각하시고 한번 도전해보세요 !!!\n",
    "\n",
    "\n",
    "<br>\n",
    "\n",
    "\n",
    "[**답변 입력 방법**]\n",
    "\n",
    "문제 아래에 있는 코드 입력창에 정답코드를 작성하신 후  __▷ 버튼을 클릭해 코드를 실행__ 해보세요<br>"
   ]
  },
  {
   "cell_type": "markdown",
   "metadata": {},
   "source": [
    "---"
   ]
  },
  {
   "cell_type": "markdown",
   "metadata": {},
   "source": [
    "### 프로젝트: 간단한 ATM 관리 시스템\n",
    "<br>\n",
    "\n",
    "__[문제 1: 잔액 확인]__\n",
    "\n",
    "현재 잔액은 1000원입니다. 현재 잔액을 출력하세요. \n",
    "\n",
    "(변수명 예시 : 잔액 - balance)"
   ]
  },
  {
   "cell_type": "code",
   "execution_count": 67,
   "metadata": {},
   "outputs": [
    {
     "name": "stdout",
     "output_type": "stream",
     "text": [
      "현재 잔액은 1,000원입니다.\n"
     ]
    }
   ],
   "source": [
    "balance = 1_000\n",
    "print(f\"현재 잔액은 {balance:,.0f}원입니다.\")"
   ]
  },
  {
   "cell_type": "markdown",
   "metadata": {},
   "source": [
    "__[문제 2: 입금]__\n",
    "\n",
    "가지고 있는 돈을 입금합니다.\n",
    "\n",
    "입금 금액을 입력받고, 잔액을 갱신한 후 새로운 잔액을 출력하세요. 입금 거래를 영수증 리스트에 기록하세요.\n",
    "\n",
    "- 입금 금액은 input()을 이용해 받습니다.\n",
    "- 영수증은 list()로 선언합니다.\n",
    "- 영수증에 들어가는 정보는 튜플 형태입니다.\n",
    "- 튜플에 담기는 정보는 (입금 or 출금, 입금 or 출금 금액, 현재 잔액)순 입니다.\n",
    "\n",
    "(변수명 예시: 영수증 리스트 - receipts, 입금 금액 - deposit_amount)\n"
   ]
  },
  {
   "cell_type": "code",
   "execution_count": 68,
   "metadata": {},
   "outputs": [
    {
     "name": "stdout",
     "output_type": "stream",
     "text": [
      "입금 금액은 10,000원입니다.\n",
      "입금 후 잔액은 11,000원입니다.\n"
     ]
    }
   ],
   "source": [
    "# 초기시도\n",
    "# deposit_amount = int(input(\"입금액을 입력하세요: \"))\n",
    "# print(f\"입금 금액은 {deposit_amount:,.0f}원입니다.\")\n",
    "# balance += deposit_amount\n",
    "# recepits = []\n",
    "# recepits.append({\"입금\", deposit_amount, balance})\n",
    "# print(f\"입금후 잔액은 {balance:,.0f}원 입니다.\")\n",
    "\n",
    "#수정본 \n",
    "receipts = [] #코드의 명확성과 유지보수성 때문에 변수를 위에 작성하는게 좋음. 코드의 흐름, 모든 변수의 초기상태 등을 볼 수 있음\n",
    "deposit_amount = int(input(\"입금액을 입력하세요\"))\n",
    "balance += deposit_amount\n",
    "receipts.append((\"입금\", deposit_amount, balance))\n",
    "print(\"입금 금액은 {:,}원입니다.\".format(deposit_amount)) #f-string 방식 대신 str.format() 방식 사용함 \n",
    "#f-string은 3.6 이상 지원, str.format( )은 2.7이상 지원 \n",
    "#문자열에 {}를 사용하고 여기에 .format을 넣어서 값을 정의해주면 됨. \n",
    "#f-string이 더 우수하지만, 다른 형태 사용해봄\n",
    "print(\"입금 후 잔액은 {:,}원입니다.\".format(balance)) \n"
   ]
  },
  {
   "cell_type": "markdown",
   "metadata": {},
   "source": [
    "__[문제 3: 출금]__\n",
    "\n",
    "사용자가 돈을 출금합니다. 출금 금액을 입력받고, 잔액을 갱신한 후 새로운 잔액을 출력하세요. 출금 거래를 영수증 리스트에 기록하세요. \n",
    "\n",
    "- 출금 금액은 input()을 이용해 받습니다.\n",
    "- 현재 잔액보다 출금 요청 금액이 많을 경우 현재 잔액 만큼만 출금되도록 합니다.\n",
    "- 영수증에 들어가는 정보는 튜플 형태입니다.\n",
    "- 튜플에 담기는 정보는 (입금 or 출금, 입금 or 출금 금액, 현재 잔액)순 입니다.\n",
    "\n",
    "(변수명 예시: 출금금액 - withdraw_amount)"
   ]
  },
  {
   "cell_type": "code",
   "execution_count": 69,
   "metadata": {},
   "outputs": [
    {
     "name": "stdout",
     "output_type": "stream",
     "text": [
      "출금 금액은 5,000원입니다.\n",
      "출금 후 잔액은 6,000입니다.\n"
     ]
    }
   ],
   "source": [
    "withdraw_amount = int(input(\"출금 금액을 입력하세요\"))\n",
    "print(f\"출금 금액은 {withdraw_amount:,.0f}원입니다.\")\n",
    "if withdraw_amount > balance:\n",
    "    withdraw_amount = balance\n",
    "    print(f\"출금 요청액이 출금 가능액 이상이므로 잔고 전액인 {balance:,.0f}원이 출금됩니다.\")\n",
    "balance -= withdraw_amount #balance가 indent 되어 있으면 제대로 출력되지 않음. \n",
    "#If 구문 안에 balance가 들어 있으면 if가 참일때만 실행이 됨. \n",
    "# 기억할것: 파이썬이서 들여쓰기는 코드 블록을 구분하는 역할을 함! \n",
    "receipts.append((\"출금\", withdraw_amount, balance))\n",
    "print(f\"출금 후 잔액은 {balance:,.0f}입니다.\")"
   ]
  },
  {
   "cell_type": "markdown",
   "metadata": {},
   "source": [
    "__[문제 4: 모든 거래 내역 확인]__\n",
    "\n",
    "모든 거래 내역(영수증)을 요청받았을 때 출력하세요.\n",
    "- 지금까지 영수증에 추가된 정보를 출력합니다.\n",
    "- 출력 형태는 자유입니다."
   ]
  },
  {
   "cell_type": "code",
   "execution_count": null,
   "metadata": {},
   "outputs": [
    {
     "name": "stdout",
     "output_type": "stream",
     "text": [
      "[('입금', 10000, 11000), ('출금', 5000, 6000)]\n",
      "('입금', 10000, 11000)\n",
      "('출금', 5000, 6000)\n",
      "('입금', 10000, 11000)\n",
      "('출금', 5000, 6000)\n",
      "1. 입금 10000 \n",
      " 잔액: 11000원\n",
      "2. 출금 5000 \n",
      " 잔액: 6000원\n",
      "모든 거래 내역:\n",
      "1. 입금 10000원 \n",
      " 잔액 11000원\n",
      "2. 출금 5000원 \n",
      " 잔액 6000원\n"
     ]
    }
   ],
   "source": [
    "# 방법 1 => 그냥 프린트를 한다, 한줄로 그냥 나열\n",
    "print(receipts)\n",
    "\n",
    "# 방법 2 => for 구문 활용, 변수 receipts에 있는 값을 하나씩 보여줌 \n",
    "# 변수 명을 정할 때, 복수형 데이터(리스트, 튜플) 변수는 항상 복수로 정하는 것이 좋다(가독성과 협업성 모두 상승)\n",
    "for receipt in receipts: \n",
    "    print(receipt)\n",
    "\n",
    "# 방법 3 => sep 옵션 사용\n",
    "# 언패킹 연산자인 *를 사용함. 리스트나 튜플 같은 이터러블 객체 요소들을 하나씩 분리해서 함수 인자나 다른 문법에 전달할 때 사용\n",
    "print(*receipts, sep=\"\\n\")\n",
    "\n",
    "# 방법 4 => 인덱스 접근 방법 1\n",
    "for i in range(len(receipts)):\n",
    "    t_type, amount, balance = receipts[i]\n",
    "    print(f\"{i+1}. {t_type:} {amount}원 \\n 잔액: {balance}원\")\n",
    "\n",
    "# 방법 4 => 인덱스 접근 방법 2 \n",
    "# enumerate()는 리스트 같은 순회 가능한 객체를 인덱스와 함께 반환함. 반환값 = (index, value)\n",
    "# 기본문법: enumerate(iterable, strat=0)\n",
    "# i는 enumerate 함수가 반복하면서 돌 때마다 자동으로 붙여주는 현재 반복 횟수를 저장하는 변수 \n",
    "# 여기서 i는 숫자 1부터 시작해서 1, 2, 3으로 증가, 출력시 번호 매기기에 사용. \n",
    "print(\"모든 거래 내역:\")\n",
    "for i, receipt in enumerate(receipts, start=1):\n",
    "    t_type, amount, balance = receipt\n",
    "    print(f\"{i}. {t_type:} {amount}원 \\n 잔액 {balance}원\")\n"
   ]
  }
 ],
 "metadata": {
  "colab": {
   "authorship_tag": "ABX9TyOA/CeX7CUdbTKFxV0fsocV",
   "provenance": []
  },
  "kernelspec": {
   "display_name": "Python 3",
   "name": "python3"
  },
  "language_info": {
   "codemirror_mode": {
    "name": "ipython",
    "version": 3
   },
   "file_extension": ".py",
   "mimetype": "text/x-python",
   "name": "python",
   "nbconvert_exporter": "python",
   "pygments_lexer": "ipython3",
   "version": "3.9.6"
  }
 },
 "nbformat": 4,
 "nbformat_minor": 0
}
